{
 "cells": [
  {
   "cell_type": "code",
   "execution_count": 6,
   "metadata": {},
   "outputs": [],
   "source": [
    "# import packages and modules\n",
    "import fredapi as fa\n",
    "import pandas as pd\n",
    "import pymongo\n",
    "from config import fredapi_key"
   ]
  },
  {
   "cell_type": "code",
   "execution_count": 7,
   "metadata": {},
   "outputs": [],
   "source": [
    "fred = fa.Fred(fredapi_key)"
   ]
  },
  {
   "cell_type": "code",
   "execution_count": 8,
   "metadata": {},
   "outputs": [
    {
     "data": {
      "text/plain": [
       "2005-01-01     66.872375\n",
       "2005-04-01     68.803875\n",
       "2005-07-01     70.869590\n",
       "2005-10-01     72.535189\n",
       "2006-01-01     70.029346\n",
       "                 ...    \n",
       "2021-07-01    105.946543\n",
       "2021-10-01    107.914994\n",
       "2022-01-01     96.949360\n",
       "2022-04-01     99.429963\n",
       "2022-07-01    101.047790\n",
       "Name: canada_ratio, Length: 71, dtype: float64"
      ]
     },
     "execution_count": 8,
     "metadata": {},
     "output_type": "execute_result"
    }
   ],
   "source": [
    "canada_debt_gdp = fred.get_series('HDTGPDCAQ163N')\n",
    "canada_debt_gdp.name = 'canada_ratio'\n",
    "canada_debt_gdp"
   ]
  },
  {
   "cell_type": "code",
   "execution_count": 9,
   "metadata": {},
   "outputs": [
    {
     "data": {
      "text/plain": [
       "2005-01-01    87.157525\n",
       "2005-04-01    89.708126\n",
       "2005-07-01    92.393651\n",
       "2005-10-01    94.648123\n",
       "2006-01-01    91.952054\n",
       "                ...    \n",
       "2021-07-01    78.138204\n",
       "2021-10-01    79.834824\n",
       "2022-01-01    74.110958\n",
       "2022-04-01    75.550657\n",
       "2022-07-01    76.829614\n",
       "Name: usa_ratio, Length: 71, dtype: float64"
      ]
     },
     "execution_count": 9,
     "metadata": {},
     "output_type": "execute_result"
    }
   ],
   "source": [
    "usa_debt_gdp = fred.get_series('HDTGPDUSQ163N')\n",
    "usa_debt_gdp.name = 'usa_ratio'\n",
    "usa_debt_gdp"
   ]
  },
  {
   "cell_type": "code",
   "execution_count": 10,
   "metadata": {},
   "outputs": [
    {
     "data": {
      "text/html": [
       "<div>\n",
       "<style scoped>\n",
       "    .dataframe tbody tr th:only-of-type {\n",
       "        vertical-align: middle;\n",
       "    }\n",
       "\n",
       "    .dataframe tbody tr th {\n",
       "        vertical-align: top;\n",
       "    }\n",
       "\n",
       "    .dataframe thead th {\n",
       "        text-align: right;\n",
       "    }\n",
       "</style>\n",
       "<table border=\"1\" class=\"dataframe\">\n",
       "  <thead>\n",
       "    <tr style=\"text-align: right;\">\n",
       "      <th></th>\n",
       "      <th>canada_ratio</th>\n",
       "      <th>usa_ratio</th>\n",
       "    </tr>\n",
       "  </thead>\n",
       "  <tbody>\n",
       "    <tr>\n",
       "      <th>2005-01-01</th>\n",
       "      <td>66.872375</td>\n",
       "      <td>87.157525</td>\n",
       "    </tr>\n",
       "    <tr>\n",
       "      <th>2005-04-01</th>\n",
       "      <td>68.803875</td>\n",
       "      <td>89.708126</td>\n",
       "    </tr>\n",
       "    <tr>\n",
       "      <th>2005-07-01</th>\n",
       "      <td>70.869590</td>\n",
       "      <td>92.393651</td>\n",
       "    </tr>\n",
       "    <tr>\n",
       "      <th>2005-10-01</th>\n",
       "      <td>72.535189</td>\n",
       "      <td>94.648123</td>\n",
       "    </tr>\n",
       "    <tr>\n",
       "      <th>2006-01-01</th>\n",
       "      <td>70.029346</td>\n",
       "      <td>91.952054</td>\n",
       "    </tr>\n",
       "    <tr>\n",
       "      <th>...</th>\n",
       "      <td>...</td>\n",
       "      <td>...</td>\n",
       "    </tr>\n",
       "    <tr>\n",
       "      <th>2021-07-01</th>\n",
       "      <td>105.946543</td>\n",
       "      <td>78.138204</td>\n",
       "    </tr>\n",
       "    <tr>\n",
       "      <th>2021-10-01</th>\n",
       "      <td>107.914994</td>\n",
       "      <td>79.834824</td>\n",
       "    </tr>\n",
       "    <tr>\n",
       "      <th>2022-01-01</th>\n",
       "      <td>96.949360</td>\n",
       "      <td>74.110958</td>\n",
       "    </tr>\n",
       "    <tr>\n",
       "      <th>2022-04-01</th>\n",
       "      <td>99.429963</td>\n",
       "      <td>75.550657</td>\n",
       "    </tr>\n",
       "    <tr>\n",
       "      <th>2022-07-01</th>\n",
       "      <td>101.047790</td>\n",
       "      <td>76.829614</td>\n",
       "    </tr>\n",
       "  </tbody>\n",
       "</table>\n",
       "<p>71 rows × 2 columns</p>\n",
       "</div>"
      ],
      "text/plain": [
       "            canada_ratio  usa_ratio\n",
       "2005-01-01     66.872375  87.157525\n",
       "2005-04-01     68.803875  89.708126\n",
       "2005-07-01     70.869590  92.393651\n",
       "2005-10-01     72.535189  94.648123\n",
       "2006-01-01     70.029346  91.952054\n",
       "...                  ...        ...\n",
       "2021-07-01    105.946543  78.138204\n",
       "2021-10-01    107.914994  79.834824\n",
       "2022-01-01     96.949360  74.110958\n",
       "2022-04-01     99.429963  75.550657\n",
       "2022-07-01    101.047790  76.829614\n",
       "\n",
       "[71 rows x 2 columns]"
      ]
     },
     "execution_count": 10,
     "metadata": {},
     "output_type": "execute_result"
    }
   ],
   "source": [
    "df = pd.merge(canada_debt_gdp, usa_debt_gdp, left_index=True, right_index=True)\n",
    "df"
   ]
  },
  {
   "cell_type": "code",
   "execution_count": null,
   "metadata": {},
   "outputs": [],
   "source": []
  },
  {
   "cell_type": "code",
   "execution_count": null,
   "metadata": {},
   "outputs": [],
   "source": []
  }
 ],
 "metadata": {
  "kernelspec": {
   "display_name": "Python 3 (ipykernel)",
   "language": "python",
   "name": "python3"
  },
  "language_info": {
   "codemirror_mode": {
    "name": "ipython",
    "version": 3
   },
   "file_extension": ".py",
   "mimetype": "text/x-python",
   "name": "python",
   "nbconvert_exporter": "python",
   "pygments_lexer": "ipython3",
   "version": "3.9.13"
  }
 },
 "nbformat": 4,
 "nbformat_minor": 2
}
