{
 "cells": [
  {
   "cell_type": "code",
   "execution_count": 1,
   "metadata": {},
   "outputs": [],
   "source": [
    "# import packages and modules\n",
    "import fredapi as fa\n",
    "import pandas as pd\n",
    "import pymongo\n",
    "from config import fredapi_key"
   ]
  },
  {
   "cell_type": "code",
   "execution_count": 2,
   "metadata": {},
   "outputs": [],
   "source": [
    "fred = fa.Fred(fredapi_key)"
   ]
  },
  {
   "cell_type": "code",
   "execution_count": 3,
   "metadata": {},
   "outputs": [
    {
     "data": {
      "text/plain": [
       "2005-01-01     66.872375\n",
       "2005-04-01     68.803875\n",
       "2005-07-01     70.869590\n",
       "2005-10-01     72.535189\n",
       "2006-01-01     70.029346\n",
       "                 ...    \n",
       "2021-07-01    105.946543\n",
       "2021-10-01    107.914994\n",
       "2022-01-01     96.949360\n",
       "2022-04-01     99.429963\n",
       "2022-07-01    101.047790\n",
       "Name: canada_ratio, Length: 71, dtype: float64"
      ]
     },
     "execution_count": 3,
     "metadata": {},
     "output_type": "execute_result"
    }
   ],
   "source": [
    "canada_debt_gdp = fred.get_series('HDTGPDCAQ163N')\n",
    "canada_debt_gdp.name = 'canada_ratio'\n",
    "canada_debt_gdp"
   ]
  },
  {
   "cell_type": "code",
   "execution_count": 4,
   "metadata": {},
   "outputs": [
    {
     "data": {
      "text/plain": [
       "2005-01-01    87.157525\n",
       "2005-04-01    89.708126\n",
       "2005-07-01    92.393651\n",
       "2005-10-01    94.648123\n",
       "2006-01-01    91.952054\n",
       "                ...    \n",
       "2021-07-01    78.138204\n",
       "2021-10-01    79.834824\n",
       "2022-01-01    74.110958\n",
       "2022-04-01    75.550657\n",
       "2022-07-01    76.829614\n",
       "Name: usa_ratio, Length: 71, dtype: float64"
      ]
     },
     "execution_count": 4,
     "metadata": {},
     "output_type": "execute_result"
    }
   ],
   "source": [
    "usa_debt_gdp = fred.get_series('HDTGPDUSQ163N')\n",
    "usa_debt_gdp.name = 'usa_ratio'\n",
    "usa_debt_gdp"
   ]
  },
  {
   "cell_type": "code",
   "execution_count": 12,
   "metadata": {},
   "outputs": [
    {
     "ename": "NameError",
     "evalue": "name 'column' is not defined",
     "output_type": "error",
     "traceback": [
      "\u001b[0;31m---------------------------------------------------------------------------\u001b[0m",
      "\u001b[0;31mNameError\u001b[0m                                 Traceback (most recent call last)",
      "\u001b[0;32m/var/folders/t0/my92__dd1hn52xxdlw_79kf80000gn/T/ipykernel_56923/3975348400.py\u001b[0m in \u001b[0;36m<module>\u001b[0;34m\u001b[0m\n\u001b[1;32m      1\u001b[0m \u001b[0mdf\u001b[0m \u001b[0;34m=\u001b[0m \u001b[0mpd\u001b[0m\u001b[0;34m.\u001b[0m\u001b[0mmerge\u001b[0m\u001b[0;34m(\u001b[0m\u001b[0mcanada_debt_gdp\u001b[0m\u001b[0;34m,\u001b[0m \u001b[0musa_debt_gdp\u001b[0m\u001b[0;34m,\u001b[0m \u001b[0mleft_index\u001b[0m\u001b[0;34m=\u001b[0m\u001b[0;32mTrue\u001b[0m\u001b[0;34m,\u001b[0m \u001b[0mright_index\u001b[0m\u001b[0;34m=\u001b[0m\u001b[0;32mTrue\u001b[0m\u001b[0;34m)\u001b[0m\u001b[0;34m\u001b[0m\u001b[0;34m\u001b[0m\u001b[0m\n\u001b[0;32m----> 2\u001b[0;31m \u001b[0mdf\u001b[0m\u001b[0;34m[\u001b[0m\u001b[0mcolumn\u001b[0m\u001b[0;34m.\u001b[0m\u001b[0mindex\u001b[0m\u001b[0;34m[\u001b[0m\u001b[0;36m0\u001b[0m\u001b[0;34m]\u001b[0m\u001b[0;34m]\u001b[0m\u001b[0;34m=\u001b[0m\u001b[0mcolumn\u001b[0m\u001b[0;34m[\u001b[0m\u001b[0;34m[\u001b[0m\u001b[0;34m\"date\"\u001b[0m\u001b[0;34m]\u001b[0m\u001b[0;34m]\u001b[0m\u001b[0;34m\u001b[0m\u001b[0;34m\u001b[0m\u001b[0m\n\u001b[0m",
      "\u001b[0;31mNameError\u001b[0m: name 'column' is not defined"
     ]
    }
   ],
   "source": [
    "df = pd.merge(canada_debt_gdp, usa_debt_gdp, left_index=True, right_index=True)\n",
    "df[column.index[0]]=column[[\"date\"]]"
   ]
  },
  {
   "cell_type": "code",
   "execution_count": 6,
   "metadata": {},
   "outputs": [],
   "source": [
    "output_ratio_can_us = df.to_csv(\"ratio_output.csv\")"
   ]
  },
  {
   "cell_type": "code",
   "execution_count": 14,
   "metadata": {},
   "outputs": [],
   "source": [
    "import csv\n",
    "import json\n",
    "\n",
    "csv_file_path = \"/Users/faizaahmad/Desktop/Bootcamp_gatech/Project 3/project-gt-3-main/visualizations/ratio_output.csv\"\n",
    "json_file_path = \"/Users/faizaahmad/Desktop/Bootcamp_gatech/Project 3/project-gt-3-main/visualizations/ratio_output.json\"\n",
    " \n",
    "def csv_to_json(csv_file_path, json_file_path):\n",
    "    #create a dictionary\n",
    "    data_dict = {}\n",
    " \n",
    "    #Step 2\n",
    "    #open a csv file handler\n",
    "    with open(csv_file_path, encoding = 'utf-8') as csv_file_handler:\n",
    "        csv_reader = csv.DictReader(csv_file_handler)\n",
    "        #convert each row into a dictionary\n",
    "        #and add the converted data to the data_variable\n",
    " \n",
    "        for rows in csv_reader:\n",
    " \n",
    "            #assuming a column named 'No'\n",
    "            #to be the primary key\n",
    "            key = rows['']\n",
    "            data_dict[key] = rows\n",
    "    with open(json_file_path, 'w', encoding = 'utf-8') as json_file_handler:\n",
    "        #Step 4\n",
    "        json_file_handler.write(json.dumps(data_dict, indent = 4))\n",
    "#csv_file_path = input('Enter the absolute path of the CSV file: ')\n",
    "#json_file_path = input('Enter the absolute path of the JSON file: ')\n",
    " \n",
    "csv_to_json(csv_file_path, json_file_path)\n"
   ]
  },
  {
   "cell_type": "code",
   "execution_count": null,
   "metadata": {},
   "outputs": [],
   "source": []
  },
  {
   "cell_type": "code",
   "execution_count": null,
   "metadata": {},
   "outputs": [],
   "source": []
  },
  {
   "cell_type": "code",
   "execution_count": null,
   "metadata": {},
   "outputs": [],
   "source": []
  }
 ],
 "metadata": {
  "kernelspec": {
   "display_name": "Python 3 (ipykernel)",
   "language": "python",
   "name": "python3"
  },
  "language_info": {
   "codemirror_mode": {
    "name": "ipython",
    "version": 3
   },
   "file_extension": ".py",
   "mimetype": "text/x-python",
   "name": "python",
   "nbconvert_exporter": "python",
   "pygments_lexer": "ipython3",
   "version": "3.9.13"
  },
  "vscode": {
   "interpreter": {
    "hash": "a5387b9da968551e43e0ccab31c37bebadc093c630309dcd510e17231b5b064a"
   }
  }
 },
 "nbformat": 4,
 "nbformat_minor": 2
}
